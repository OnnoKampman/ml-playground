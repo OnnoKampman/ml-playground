{
 "cells": [
  {
   "cell_type": "code",
   "execution_count": 1,
   "metadata": {},
   "outputs": [],
   "source": [
    "# The more recent Tensorflow versions can directly compute KL terms with a built-in function.\n",
    "# Let's compare this computation with the analytical form, as well as an approximation using samples. \n",
    "# We can see how many samples we need to get a good estimate as well.\n",
    "# We'll just use Normal distributions for now.\n",
    "import tensorflow as tf\n",
    "import numpy as np"
   ]
  },
  {
   "cell_type": "code",
   "execution_count": 14,
   "metadata": {},
   "outputs": [],
   "source": [
    "p_loc = 0.0\n",
    "p_scale = 0.4\n",
    "q_loc = 2.0\n",
    "q_scale = 1.2\n",
    "\n",
    "p = tf.distributions.Normal(loc=p_loc, scale=p_scale, name=\"distribution_a\")\n",
    "q = tf.distributions.Normal(loc=q_loc, scale=q_scale, name=\"distribution_b\")\n",
    "\n",
    "n_samples = tf.placeholder(dtype=tf.int32)\n",
    "p_samps = p.sample(n_samples)\n",
    "q_samps = q.sample(n_samples)\n",
    "\n",
    "kld_tf = tf.distributions.kl_divergence(p, q, name=\"kld\")\n",
    "kld_approx = tf.reduce_mean(p.log_prob(p_samps) - q.log_prob(p_samps))"
   ]
  },
  {
   "cell_type": "markdown",
   "metadata": {},
   "source": [
    "# TF built-in function and approximation."
   ]
  },
  {
   "cell_type": "code",
   "execution_count": 15,
   "metadata": {},
   "outputs": [
    {
     "name": "stdout",
     "output_type": "stream",
     "text": [
      "KL term as implemented in TF:\n",
      "2.0430567\n",
      "\n"
     ]
    }
   ],
   "source": [
    "with tf.Session() as sess:\n",
    "        \n",
    "    print(\"KL term as implemented in TF:\")\n",
    "    kld_tf_ = kld_tf.eval()\n",
    "    print(kld_tf_)\n",
    "    print(\"\")"
   ]
  },
  {
   "cell_type": "code",
   "execution_count": 16,
   "metadata": {},
   "outputs": [
    {
     "name": "stdout",
     "output_type": "stream",
     "text": [
      "KL term as approximated with 1 samples:\n",
      "0   2.5594  0.2527\n",
      "1  -0.4264  1.2087\n",
      "2   1.9823  0.0297\n",
      "3   1.8560  0.0915\n",
      "4   2.0138  0.0143\n",
      "5   2.6317  0.2881\n",
      "6   2.4318  0.1903\n",
      "7   2.0815  0.0188\n",
      "8   0.9530  0.5335\n",
      "9   2.6330  0.2887\n",
      "KL term as approximated with 2 samples:\n",
      "0   2.2073  0.0804\n",
      "1   2.5494  0.2478\n",
      "2   1.6407  0.1970\n",
      "3   1.9204  0.0600\n",
      "4   2.6041  0.2746\n",
      "5   2.0809  0.0185\n",
      "6   1.0975  0.4628\n",
      "7   2.4207  0.1848\n",
      "8   1.9826  0.0296\n",
      "9   2.3401  0.1454\n",
      "KL term as approximated with 4 samples:\n",
      "0   2.3396  0.1452\n",
      "1   1.1545  0.4349\n",
      "2   2.4077  0.1785\n",
      "3   1.8378  0.1005\n",
      "4   2.4826  0.2152\n",
      "5   2.3430  0.1468\n",
      "6   1.4351  0.2976\n",
      "7   2.0910  0.0235\n",
      "8   2.0377  0.0026\n",
      "9   2.1341  0.0446\n",
      "KL term as approximated with 8 samples:\n",
      "0   2.2290  0.0910\n",
      "1   2.1102  0.0329\n",
      "2   1.6686  0.1833\n",
      "3   2.2177  0.0855\n",
      "4   1.7791  0.1292\n",
      "5   2.4837  0.2157\n",
      "6   2.1225  0.0389\n",
      "7   1.9360  0.0524\n",
      "8   1.7870  0.1253\n",
      "9   2.2139  0.0836\n",
      "KL term as approximated with 16 samples:\n",
      "0   2.1552  0.0549\n",
      "1   2.3257  0.1384\n",
      "2   2.0654  0.0110\n",
      "3   1.9772  0.0322\n",
      "4   1.8024  0.1178\n",
      "5   1.9717  0.0349\n",
      "6   2.2222  0.0877\n",
      "7   1.9153  0.0625\n",
      "8   2.2339  0.0934\n",
      "9   2.0325  0.0052\n",
      "KL term as approximated with 32 samples:\n",
      "0   1.7942  0.1218\n",
      "1   1.6475  0.1936\n",
      "2   2.0642  0.0104\n",
      "3   1.9617  0.0398\n",
      "4   1.9541  0.0436\n",
      "5   1.7918  0.1230\n",
      "6   2.1444  0.0496\n",
      "7   1.8852  0.0773\n",
      "8   2.0007  0.0207\n",
      "9   1.9845  0.0286\n",
      "KL term as approximated with 64 samples:\n",
      "0   2.1174  0.0364\n",
      "1   2.1764  0.0653\n",
      "2   2.1538  0.0542\n",
      "3   2.0119  0.0153\n",
      "4   2.0082  0.0171\n",
      "5   1.9120  0.0642\n",
      "6   1.9621  0.0396\n",
      "7   1.9401  0.0504\n",
      "8   2.0354  0.0037\n",
      "9   2.0031  0.0196\n",
      "KL term as approximated with 128 samples:\n",
      "0   2.0013  0.0204\n",
      "1   1.8365  0.1011\n",
      "2   2.0440  0.0004\n",
      "3   2.0606  0.0086\n",
      "4   1.9260  0.0573\n",
      "5   2.1780  0.0660\n",
      "6   1.9742  0.0337\n",
      "7   1.9052  0.0675\n",
      "8   2.1453  0.0501\n",
      "9   2.0379  0.0025\n"
     ]
    }
   ],
   "source": [
    "with tf.Session() as sess:\n",
    "    \n",
    "    samps_space = [1, 2, 4, 8, 16, 32, 64, 128]\n",
    "    for s in samps_space:\n",
    "        print(\"KL term as approximated with %d samples:\" % s)\n",
    "        for i in range(10):\n",
    "            kld_approx_ = kld_approx.eval(feed_dict={n_samples:s})\n",
    "            print(\"%d  % .4f  %.4f\" % (i, kld_approx_, abs(kld_approx_ - kld_tf_) / kld_tf_))"
   ]
  },
  {
   "cell_type": "markdown",
   "metadata": {},
   "source": [
    "# Analytical computation."
   ]
  },
  {
   "cell_type": "markdown",
   "metadata": {},
   "source": [
    "Now, we could also compute this term analytically in this case.\n",
    "\n",
    "$p(x) = \\frac{1}{\\sqrt{2\\pi\\sigma_p^2}} e^{-\\frac{(x-\\mu_p)^2}{2\\sigma_p^2}}$\n",
    "$q(x) = \\frac{1}{\\sqrt{2\\pi\\sigma_q^2}} e^{-\\frac{(x-\\mu_q)^2}{2\\sigma_q^2}}$\n",
    "\n",
    "$KL(p||q) = E_p [\\log (\\frac{p}{q})] = \\int_{-\\infty}^{\\infty} p(x) \\log (\\frac{p(x)}{q(x)}) dx = \\int_{-\\infty}^{\\infty} p(x) (\\log p(x) - \\log q(x)) dx = \\int_{-\\infty}^{\\infty} p(x) \\log p(x) dx - \\int_{-\\infty}^{\\infty} p(x) \\log q(x) dx$"
   ]
  },
  {
   "cell_type": "markdown",
   "metadata": {},
   "source": [
    "$= -\\frac{1}{2} (1 + \\log (2\\pi \\sigma_p^2)) - \\int_{-\\infty}^{\\infty} p(x) \\log q(x) dx$"
   ]
  },
  {
   "cell_type": "markdown",
   "metadata": {},
   "source": [
    "$- \\int_{-\\infty}^{\\infty} p(x) \\log q(x) dx = - \\int_{-\\infty}^{\\infty} p(x) ( \\log \\frac{1}{\\sqrt{2\\pi\\sigma_q}} - \\frac{(x-\\mu_q)^2}{2\\sigma_q^2}) dx = \\frac{1}{2} \\log (2\\pi\\sigma_q^2) + \\int_{-\\infty}^{\\infty} p(x) \\frac{(x-\\mu_q)^2}{2\\sigma_q^2}) dx$"
   ]
  },
  {
   "cell_type": "markdown",
   "metadata": {},
   "source": [
    "$\\int_{-\\infty}^{\\infty} p(x) \\frac{(x-\\mu_q)^2}{2\\sigma_q^2} dx = \\frac{1}{2\\sigma_q^2} \\int_{-\\infty}^{\\infty} p(x) (x^2 - 2\\mu_qx + \\mu_q^2) dx = \\frac{(\\sigma_p^2 + \\mu_p^2) - 2\\mu_q\\mu_p + \\mu_q^2}{2\\sigma_q^2}  = \\frac{\\sigma_p^2 + (\\mu_p - \\mu_q)^2)}{2\\sigma_q^2}$"
   ]
  },
  {
   "cell_type": "markdown",
   "metadata": {},
   "source": [
    "Collecting up all the terms we get\n",
    "\n",
    "$KL(p||q) = -\\frac{1}{2} (1 + \\log (2\\pi\\sigma_p^2)) + \\frac{1}{2} \\log (2\\pi\\sigma_q^2) + \\frac{\\sigma_p^2 + (\\mu_p - \\mu_q)^2)}{2\\sigma_q^2} $"
   ]
  },
  {
   "cell_type": "markdown",
   "metadata": {},
   "source": [
    "$= -\\frac{1}{2} (1 + \\log (2\\pi\\sigma_p^2) - \\log (2\\pi\\sigma_q^2)) + \\frac{\\sigma_p^2 + (\\mu_p - \\mu_q)^2)}{2\\sigma_q^2} = -\\frac{1}{2} (1 + \\log (\\sigma_p^2) - \\log (\\sigma_q^2)) + \\frac{\\sigma_p^2 + (\\mu_p - \\mu_q)^2)}{2\\sigma_q^2} = \\log \\frac{\\sigma_q}{\\sigma_p} + \\frac{\\sigma_p^2 + (\\mu_p - \\mu_q)^2)}{2\\sigma_q^2} - \\frac{1}{2}$"
   ]
  },
  {
   "cell_type": "code",
   "execution_count": 17,
   "metadata": {},
   "outputs": [
    {
     "name": "stdout",
     "output_type": "stream",
     "text": [
      "KL term computed analytically:\n",
      "2.043056733112554\n"
     ]
    }
   ],
   "source": [
    "kld_analytical = np.log(q_scale/p_scale) + (p_scale**2 + (p_loc - q_loc)**2) / (2*q_scale**2) - 0.5\n",
    "\n",
    "print(\"KL term computed analytically:\")\n",
    "print(kld_analytical)"
   ]
  },
  {
   "cell_type": "code",
   "execution_count": null,
   "metadata": {},
   "outputs": [],
   "source": []
  }
 ],
 "metadata": {
  "kernelspec": {
   "display_name": "Python 3",
   "language": "python",
   "name": "python3"
  },
  "language_info": {
   "codemirror_mode": {
    "name": "ipython",
    "version": 3
   },
   "file_extension": ".py",
   "mimetype": "text/x-python",
   "name": "python",
   "nbconvert_exporter": "python",
   "pygments_lexer": "ipython3",
   "version": "3.6.7"
  }
 },
 "nbformat": 4,
 "nbformat_minor": 2
}
